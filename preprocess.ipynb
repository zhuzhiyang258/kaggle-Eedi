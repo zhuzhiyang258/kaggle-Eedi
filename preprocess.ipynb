{
 "cells": [
  {
   "cell_type": "code",
   "execution_count": 2,
   "metadata": {},
   "outputs": [],
   "source": [
    "import pandas as pd\n",
    "train_file = \"data/train .csv\"\n",
    "mapping_file = \"data/misconception_mapping.csv\""
   ]
  },
  {
   "cell_type": "code",
   "execution_count": null,
   "metadata": {},
   "outputs": [],
   "source": [
    "train_df = pd.read_csv(train_file)\n",
    "mapping_df = pd.read_csv(mapping_file)\n",
    "print(\"Train Data Preview:\")\n",
    "print(train_df.head())\n",
    "print(\"\\nMapping Data Preview:\")\n",
    "print(mapping_df.head())"
   ]
  },
  {
   "cell_type": "code",
   "execution_count": 8,
   "metadata": {},
   "outputs": [],
   "source": [
    "def map_misconception(misconception_id, mapping):\n",
    "    if pd.notna(misconception_id):\n",
    "        return mapping.get(misconception_id, \"Unknown\")\n",
    "    return None"
   ]
  },
  {
   "cell_type": "code",
   "execution_count": 11,
   "metadata": {},
   "outputs": [],
   "source": [
    "# Create a dictionary to map misconception IDs to names\n",
    "misconception_dict = mapping_df.set_index('MisconceptionId')['MisconceptionName'].to_dict()\n",
    "train_df['MisconceptionA'] = train_df['MisconceptionAId'].apply(map_misconception, args=(misconception_dict,))\n",
    "train_df['MisconceptionB'] = train_df['MisconceptionBId'].apply(map_misconception, args=(misconception_dict,))\n",
    "train_df['MisconceptionC'] = train_df['MisconceptionCId'].apply(map_misconception, args=(misconception_dict,))\n",
    "train_df['MisconceptionD'] = train_df['MisconceptionDId'].apply(map_misconception, args=(misconception_dict,))\n"
   ]
  },
  {
   "cell_type": "code",
   "execution_count": null,
   "metadata": {},
   "outputs": [],
   "source": [
    "print(\"\\nMapped Misconception Names:\")\n",
    "print(train_df[['MisconceptionA', 'MisconceptionB', 'MisconceptionC', 'MisconceptionD']].head())"
   ]
  },
  {
   "cell_type": "code",
   "execution_count": null,
   "metadata": {},
   "outputs": [],
   "source": [
    "# Split the dataframe into separate rows for each answer\n",
    "split_rows = []\n",
    "for _, row in train_df.iterrows():\n",
    "    split_rows.append({\n",
    "        'QuestionId_Answer': f\"{row['QuestionId']}_A\",\n",
    "        'QuestionId': row['QuestionId'],\n",
    "        'ConstructId': row['ConstructId'],\n",
    "        'ConstructName': row['ConstructName'],\n",
    "        'CorrectAnswer': row['CorrectAnswer'],\n",
    "        'SubjectId': row['SubjectId'],\n",
    "        'SubjectName': row['SubjectName'],\n",
    "        'QuestionText': row['QuestionText'],\n",
    "        'AnswerText': row['AnswerAText'],\n",
    "        'MisconceptionId': row['MisconceptionAId'],\n",
    "        'MisconceptionName': row['MisconceptionA']\n",
    "    })\n",
    "    split_rows.append({\n",
    "        'QuestionId_Answer': f\"{row['QuestionId']}_B\",\n",
    "        'QuestionId': row['QuestionId'],\n",
    "        'ConstructId': row['ConstructId'],\n",
    "        'ConstructName': row['ConstructName'],\n",
    "        'CorrectAnswer': row['CorrectAnswer'],\n",
    "        'SubjectId': row['SubjectId'],\n",
    "        'SubjectName': row['SubjectName'],\n",
    "        'QuestionText': row['QuestionText'],\n",
    "        'AnswerText': row['AnswerBText'],\n",
    "        'MisconceptionId': row['MisconceptionBId'],\n",
    "        'MisconceptionName': row['MisconceptionB']\n",
    "    })\n",
    "    split_rows.append({\n",
    "        'QuestionId_Answer': f\"{row['QuestionId']}_C\",\n",
    "        'QuestionId': row['QuestionId'],\n",
    "        'ConstructId': row['ConstructId'],\n",
    "        'ConstructName': row['ConstructName'],\n",
    "        'CorrectAnswer': row['CorrectAnswer'],\n",
    "        'SubjectId': row['SubjectId'],\n",
    "        'SubjectName': row['SubjectName'],\n",
    "        'QuestionText': row['QuestionText'],\n",
    "        'AnswerText': row['AnswerCText'],\n",
    "        'MisconceptionId': row['MisconceptionCId'],\n",
    "        'MisconceptionName': row['MisconceptionC']\n",
    "    })\n",
    "    split_rows.append({\n",
    "        'QuestionId_Answer': f\"{row['QuestionId']}_D\",\n",
    "        'QuestionId': row['QuestionId'],\n",
    "        'ConstructId': row['ConstructId'],\n",
    "        'ConstructName': row['ConstructName'],\n",
    "        'CorrectAnswer': row['CorrectAnswer'],\n",
    "        'SubjectId': row['SubjectId'],\n",
    "        'SubjectName': row['SubjectName'],\n",
    "        'QuestionText': row['QuestionText'],\n",
    "        'AnswerText': row['AnswerDText'],\n",
    "        'MisconceptionId': row['MisconceptionDId'],\n",
    "        'MisconceptionName': row['MisconceptionD']\n",
    "    })\n",
    "\n",
    "split_df = pd.DataFrame(split_rows)\n",
    "print(\"\\nSplit Data Preview:\")\n",
    "print(split_df.head())\n"
   ]
  }
 ],
 "metadata": {
  "kernelspec": {
   "display_name": "d1",
   "language": "python",
   "name": "python3"
  },
  "language_info": {
   "codemirror_mode": {
    "name": "ipython",
    "version": 3
   },
   "file_extension": ".py",
   "mimetype": "text/x-python",
   "name": "python",
   "nbconvert_exporter": "python",
   "pygments_lexer": "ipython3",
   "version": "3.10.14"
  }
 },
 "nbformat": 4,
 "nbformat_minor": 2
}
